{
 "cells": [
  {
   "cell_type": "code",
   "execution_count": null,
   "metadata": {
    "vscode": {
     "languageId": "plaintext"
    }
   },
   "outputs": [],
   "source": [
    "from langchain_community.chat_models import ChatOpenAI\n",
    "from langchain_core.prompts import PromptTemplate\n",
    "import pandas as pd"
   ]
  },
  {
   "cell_type": "code",
   "execution_count": null,
   "metadata": {
    "vscode": {
     "languageId": "plaintext"
    }
   },
   "outputs": [],
   "source": [
    "llm = ChatOpenAI(model_name=\"gpt-4o-mini\", openai_api_key=st.secrets['openai_api_key'])\n",
    "\n",
    "# Prompt\n",
    "template = \"\"\"You are \"\"\"\n",
    "prompt = PromptTemplate(input_variables=[\"topic\"], template=template)\n",
    "prompt_query = prompt.format(topic=topic)\n",
    "\n",
    "# Run LLM model\n",
    "response = llm.invoke(prompt_query) \n",
    "print('Got repsonse from openai', response.content)"
   ]
  }
 ],
 "metadata": {
  "language_info": {
   "name": "python"
  }
 },
 "nbformat": 4,
 "nbformat_minor": 2
}
